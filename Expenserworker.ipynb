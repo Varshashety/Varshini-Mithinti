{
 "cells": [
  {
   "cell_type": "code",
   "execution_count": 1,
   "id": "3fca1b05-a446-492c-994f-0ce629047b6c",
   "metadata": {},
   "outputs": [
    {
     "name": "stdout",
     "output_type": "stream",
     "text": [
      "\n",
      "Expense Tracker\n",
      "1. Add Expense\n",
      "2. Monthly Summary\n",
      "3. Category-wise Expenditure\n",
      "4. Exit\n"
     ]
    },
    {
     "name": "stdin",
     "output_type": "stream",
     "text": [
      "Enter your choice:  1\n",
      "Enter the amount spent: $ 5000\n",
      "Enter a brief description:  3000 for hostel mess bill and 500 for girls dayout 200 for stationary and 300 for savings and 1000 for college fee\n",
      "Enter expense category:  2\n"
     ]
    },
    {
     "name": "stdout",
     "output_type": "stream",
     "text": [
      "Expense added successfully.\n",
      "\n",
      "Expense Tracker\n",
      "1. Add Expense\n",
      "2. Monthly Summary\n",
      "3. Category-wise Expenditure\n",
      "4. Exit\n"
     ]
    },
    {
     "name": "stdin",
     "output_type": "stream",
     "text": [
      "Enter your choice:  3\n",
      "Enter category to view expenditure:  1\n"
     ]
    },
    {
     "name": "stdout",
     "output_type": "stream",
     "text": [
      "Total expenses for 1: $0.00\n",
      "\n",
      "Expense Tracker\n",
      "1. Add Expense\n",
      "2. Monthly Summary\n",
      "3. Category-wise Expenditure\n",
      "4. Exit\n"
     ]
    },
    {
     "name": "stdin",
     "output_type": "stream",
     "text": [
      "Enter your choice:  4\n"
     ]
    },
    {
     "name": "stdout",
     "output_type": "stream",
     "text": [
      "Exiting...\n"
     ]
    }
   ],
   "source": [
    "import json\n",
    "import os\n",
    "from datetime import datetime\n",
    "def load_expense_data():\n",
    "    if os.path.exists(\"expenses.json\"):\n",
    "        with open(\"expenses.json\", \"r\") as file:\n",
    "            return json.load(file)\n",
    "    else:\n",
    "        return {}\n",
    "def save_expense_data(expenses):\n",
    "    with open(\"expenses.json\", \"w\") as file:\n",
    "        json.dump(expenses, file, indent=4)\n",
    "def add_expense(expenses):\n",
    "    amount = float(input(\"Enter the amount spent: $\"))\n",
    "    description = input(\"Enter a brief description: \")\n",
    "    category = input(\"Enter expense category: \")\n",
    "    timestamp = datetime.now().strftime(\"%Y-%m-%d %H:%M:%S\")\n",
    "    expenses.setdefault(timestamp, {\"amount\": amount, \"description\": description, \"category\": category})\n",
    "    print(\"Expense added successfully.\")\n",
    "def monthly_summary(expenses):\n",
    "    month = input(\"Enter month (MM/YYYY): \")\n",
    "    total_spent = 0\n",
    "    for timestamp, expense in expenses.items():\n",
    "        expense_date = datetime.strptime(timestamp, \"%Y-%m-%d %H:%M:%S\")\n",
    "        if expense_date.strftime(\"%m/%Y\") == month:\n",
    "            total_spent += expense[\"amount\"]\n",
    "    print(f\"Total expenses for {month}: ${total_spent:.2f}\")\n",
    "def category_expenditure(expenses):\n",
    "    category = input(\"Enter category to view expenditure: \")\n",
    "    total_spent = 0\n",
    "    for expense in expenses.values():\n",
    "        if expense[\"category\"].lower() == category.lower():\n",
    "            total_spent += expense[\"amount\"]\n",
    "    print(f\"Total expenses for {category}: ${total_spent:.2f}\")\n",
    "def main():\n",
    "    expenses = load_expense_data()\n",
    "    while True:\n",
    "        print(\"\\nExpense Tracker\")\n",
    "        print(\"1. Add Expense\")\n",
    "        print(\"2. Monthly Summary\")\n",
    "        print(\"3. Category-wise Expenditure\")\n",
    "        print(\"4. Exit\")\n",
    "        choice = input(\"Enter your choice: \")\n",
    "        if choice == \"1\":\n",
    "            add_expense(expenses)\n",
    "        elif choice == \"2\":\n",
    "            monthly_summary(expenses)\n",
    "        elif choice == \"3\":\n",
    "            category_expenditure(expenses)\n",
    "        elif choice == \"4\":\n",
    "            save_expense_data(expenses)\n",
    "            print(\"Exiting...\")\n",
    "            break\n",
    "        else:\n",
    "            print(\"Invalid choice. Please try again.\")\n",
    "\n",
    "if __name__ == \"__main__\":\n",
    "    main()"
   ]
  }
 ],
 "metadata": {
  "kernelspec": {
   "display_name": "Python 3 (ipykernel)",
   "language": "python",
   "name": "python3"
  },
  "language_info": {
   "codemirror_mode": {
    "name": "ipython",
    "version": 3
   },
   "file_extension": ".py",
   "mimetype": "text/x-python",
   "name": "python",
   "nbconvert_exporter": "python",
   "pygments_lexer": "ipython3",
   "version": "3.11.5"
  }
 },
 "nbformat": 4,
 "nbformat_minor": 5
}

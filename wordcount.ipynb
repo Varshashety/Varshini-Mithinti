{
 "cells": [
  {
   "cell_type": "code",
   "execution_count": 1,
   "id": "0af00c08-3e58-4248-9bb7-3e3af5731a8b",
   "metadata": {},
   "outputs": [
    {
     "name": "stdin",
     "output_type": "stream",
     "text": [
      "Enter a sentence or paragraph:  To accurately outline the scope of work required for a project it is crucial to first identify its objectives Pinpointing what the project hopes to accomplish will assist in determining its inclusions and limitations\n"
     ]
    },
    {
     "name": "stdout",
     "output_type": "stream",
     "text": [
      "Word count: 34\n"
     ]
    }
   ],
   "source": [
    "def count_words(text):\n",
    "    words = text.split()\n",
    "    return len(words)\n",
    "def main():\n",
    "    try:\n",
    "        text = input(\"Enter a sentence or paragraph: \")\n",
    "        if not text:\n",
    "            raise ValueError(\"Input cannot be empty.\")\n",
    "        word_count = count_words(text)\n",
    "        print(\"Word count:\", word_count)\n",
    "    except ValueError as ve:\n",
    "        print(\"Error:\", ve)\n",
    "if __name__ == \"__main__\":\n",
    "    main()"
   ]
  },
  {
   "cell_type": "code",
   "execution_count": null,
   "id": "71c10c84-deb3-416e-9204-4037d1a2da19",
   "metadata": {},
   "outputs": [],
   "source": []
  }
 ],
 "metadata": {
  "kernelspec": {
   "display_name": "Python 3 (ipykernel)",
   "language": "python",
   "name": "python3"
  },
  "language_info": {
   "codemirror_mode": {
    "name": "ipython",
    "version": 3
   },
   "file_extension": ".py",
   "mimetype": "text/x-python",
   "name": "python",
   "nbconvert_exporter": "python",
   "pygments_lexer": "ipython3",
   "version": "3.11.5"
  }
 },
 "nbformat": 4,
 "nbformat_minor": 5
}
